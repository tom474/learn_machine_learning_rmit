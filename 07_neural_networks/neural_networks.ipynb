{
  "cells": [
    {
      "cell_type": "markdown",
      "id": "ce0537cc",
      "metadata": {
        "id": "ce0537cc"
      },
      "source": [
        "---\n",
        "# COSC2753 | Machine Learning\n",
        "\n",
        "## Week 7 Lab Exercises: Neural Networks\n",
        "---\n",
        "\n",
        "## Introduction\n",
        "\n",
        "In this lab you will be:\n",
        "\n",
        "1. Learning how to use Keras API (in tensorflow library).\n",
        "2. Implement simple NN to classify images in the [CIFAR-10 dataset](https://www.cs.toronto.edu/~kriz/cifar.html).\n",
        "\n",
        "### The CIFAR-10 dataset\n",
        "\n",
        "The CIFAR-10 dataset consists of 60000 32x32 colour images in 10 classes, with 6000 images per class. There are 50000 training images and 10000 test images.\n",
        "\n",
        "The dataset is divided into five training batches and one test batch, each with 10000 images. The test batch contains exactly 1000 randomly-selected images from each class. The training batches contain the remaining images in random order, but some training batches may contain more images from one class than another. Between them, the training batches contain exactly 5000 images from each class.\n",
        "\n",
        "Here are the classes in the dataset, as well as 10 random images from each:\n",
        "\n",
        "![CIFAR10IMG.png](./CIFAR10IMG.png)\n",
        "\n",
        "The classes are completely mutually exclusive. There is no overlap between automobiles and trucks. \"Automobile\" includes sedans, SUVs, things of that sort. \"Truck\" includes only big trucks. Neither includes pickup trucks.\n",
        "\n",
        "**In this lab we will only use a subset of CIFAR10 data that has 10000 images.**\n"
      ]
    },
    {
      "cell_type": "markdown",
      "id": "afd322da",
      "metadata": {
        "id": "afd322da"
      },
      "source": [
        "---\n",
        "\n",
        "## Reading Data\n",
        "\n",
        "The data is available on Canvas. You can upload it to the notebook work environment and unzip using the following code.\n"
      ]
    },
    {
      "cell_type": "code",
      "execution_count": 22,
      "id": "87bb7f7a",
      "metadata": {
        "id": "87bb7f7a"
      },
      "outputs": [],
      "source": [
        "import zipfile\n",
        "\n",
        "with zipfile.ZipFile(\"./CIFAR10.zip\", \"r\") as zip_ref:\n",
        "    zip_ref.extractall(\"./\")"
      ]
    },
    {
      "cell_type": "markdown",
      "id": "09a363d2",
      "metadata": {
        "id": "09a363d2"
      },
      "source": [
        "The dataset consists of the images and a csv file. The labels and the image paths are in the CSV file.\n",
        "\n",
        "Lets randomly split the data into train/val/test:\n"
      ]
    },
    {
      "cell_type": "code",
      "execution_count": 23,
      "id": "d1947373",
      "metadata": {
        "colab": {
          "base_uri": "https://localhost:8080/"
        },
        "id": "d1947373",
        "outputId": "f6315f85-3a25-4533-a101-84eb613c8474"
      },
      "outputs": [
        {
          "name": "stdout",
          "output_type": "stream",
          "text": [
            "Train data : 6000, Val Data: 2000, Test Data: 2000\n"
          ]
        }
      ],
      "source": [
        "import numpy as np\n",
        "import pandas as pd\n",
        "from sklearn.model_selection import train_test_split\n",
        "\n",
        "data = pd.read_csv(\"./CIFAR_Data.csv\")\n",
        "\n",
        "train_data, test_data = train_test_split(data, test_size=0.2, random_state=42)\n",
        "train_data, val_data = train_test_split(train_data, test_size=0.25, random_state=42)\n",
        "\n",
        "print(\n",
        "    \"Train data : {}, Val Data: {}, Test Data: {}\".format(\n",
        "        train_data.shape[0], val_data.shape[0], test_data.shape[0]\n",
        "    )\n",
        ")"
      ]
    },
    {
      "cell_type": "markdown",
      "id": "9d7299f6",
      "metadata": {
        "id": "9d7299f6"
      },
      "source": [
        "---\n",
        "\n",
        "## Exploratory Data Analysis\n",
        "\n",
        "> ✅ Task: Do the EDA and identify the suitable performance measure.\n",
        "\n",
        "> ✅ Task: Plot some images from the dataset and observe.\n"
      ]
    },
    {
      "cell_type": "markdown",
      "id": "47632ce0",
      "metadata": {
        "id": "47632ce0"
      },
      "source": [
        "---\n",
        "\n",
        "## Model Development\n",
        "\n",
        "As discussed in Week 4-5, the typical Machine Learning model development process consists of 4 steps, lets go through each and see how it is done.\n",
        "\n",
        "1. **Determine Your Goals**: Performance metric and target value. Problem dependent.\n",
        "\n",
        "2. **Setup the Experiment**: Setup the test/validation data, visualizers and debuggers needed to determine bottlenecks in performance (overfitting/under-fitting, feature importance).\n",
        "\n",
        "3. **Default Baseline Model**: Identify the components of end-to-end pipeline including - Baseline Models, cost functions, optimisation.\n",
        "\n",
        "4. **Make Incremental Changes**: Repeatedly make incremental changes such as gathering new data, adjusting hyper-parameters, or changing algorithms, based on specific findings from your instrumentation.\n",
        "\n",
        "So far we conducted the EDA and accordingly we can decide that a performance measure such as Accuracy is adequate for this task. This is justified by the observation that there is no label imbalance in our dataset and the task is multi-class classification. According to the CIFAR website others have achieved around 82% accuracy for the full dataset. Therefore we can set that as the target performance value. However this might be unrealistic given:\n",
        "\n",
        "- We are only using a subset of data in this lab (10000/50000) to train the model.\n",
        "- We are using a traditional neural network (not CNN).\n",
        "- No data augmentation.\n",
        "\n",
        "For a traditional NN a 50% accuracy target will be more realistic.\n",
        "\n",
        "We have also identified the train/test/val splits and ready to do the experiments. In developing a neural network, we can use the learning curves to identify the next action to take. so let’s write a simple function to plot the learning curve of a NN training process. This will be our diagnostic tool.\n"
      ]
    },
    {
      "cell_type": "code",
      "execution_count": 24,
      "id": "88e626e8",
      "metadata": {
        "id": "88e626e8"
      },
      "outputs": [],
      "source": [
        "import matplotlib.pyplot as plt\n",
        "\n",
        "\n",
        "def plot_learning_curve(\n",
        "    train_loss, val_loss, train_metric, val_metric, metric_name=\"Accuracy\"\n",
        "):\n",
        "    plt.figure(figsize=(10, 5))\n",
        "\n",
        "    plt.subplot(1, 2, 1)\n",
        "    plt.plot(train_loss, \"r--\")\n",
        "    plt.plot(val_loss, \"b--\")\n",
        "    plt.xlabel(\"epochs\")\n",
        "    plt.ylabel(\"Loss\")\n",
        "    plt.legend([\"train\", \"val\"], loc=\"upper left\")\n",
        "\n",
        "    plt.subplot(1, 2, 2)\n",
        "    plt.plot(train_metric, \"r--\")\n",
        "    plt.plot(val_metric, \"b--\")\n",
        "    plt.xlabel(\"epochs\")\n",
        "    plt.ylabel(metric_name)\n",
        "    plt.legend([\"train\", \"val\"], loc=\"upper left\")\n",
        "\n",
        "    plt.show()"
      ]
    },
    {
      "cell_type": "markdown",
      "id": "20eac6fe",
      "metadata": {
        "id": "20eac6fe"
      },
      "source": [
        "---\n",
        "\n",
        "## Base Model\n",
        "\n",
        "Next we need to establish a base model. In this lab we focus on Multilayer Perceptron (MLP), therefore let’s setup a simple MLP. In this network let’s set the hidden layer dimension to 256. This is a hyper parameter and we can tune it later.\n"
      ]
    },
    {
      "cell_type": "code",
      "execution_count": 25,
      "id": "a888b984",
      "metadata": {
        "id": "a888b984"
      },
      "outputs": [],
      "source": [
        "INPUT_DIM = (32, 32, 3)\n",
        "HIDDEN_LAYER_DIM = 256\n",
        "OUTPUT_CLASSES = 10"
      ]
    },
    {
      "cell_type": "markdown",
      "id": "248aa30c",
      "metadata": {
        "id": "248aa30c"
      },
      "source": [
        "Now we are ready to setup out NN model. We will use tensorflow to build our neural network and train. To be precise, we will be using Keras which is a high level API which is part of tensorflow. First we need to setup and use Keras. In AWS Sagemaker you can change the ipython notebook kernel to `conda\\_tensorflow\\_p36` which will load a kernel that include Keras and Tensorflow. Typically this is not installed by default in the local anaconda environment.\n"
      ]
    },
    {
      "cell_type": "markdown",
      "id": "b92a5174",
      "metadata": {
        "id": "b92a5174"
      },
      "source": [
        "## Setup Keras Locally\n",
        "\n",
        "**Ignore this section if you are on AWS or colab**\n",
        "\n",
        "Anaconda does not come with the Neural Network and Deep Learning packages installed by default, therefore we are going to have to install them ourselves. To install, open Anaconda, and select the `Envrionments` tab from the left-hand bar.\n",
        "This tab lists all of the python and sci-kit learn packages that are installed on your machine, and all available packages to install.\n",
        "\n",
        "Leave the `base(root)` environment selected.\n",
        "_(If you really want to keep the deep learning packages separate you can create a new environment. This makes it easier to clean-up these packages later, but will consume more disk-space. You will also need to ensure you are in the correct environment when you launch Jupyter)._\n",
        "\n",
        "We need to install the package:\n",
        "\n",
        "1. tensorflow\n",
        "\n",
        "Tensorflow is an Open Source Software Library for Machine Intelligence.\n",
        "Keras is a high-level neural networks API specification (in tensorflow), implemented in Python and capable of running on top of either TensorFlow or Theano.\n",
        "We will be using Keras and Tensorflow as the backend throughout the lab.\n",
        "It was developed with a focus on enabling fast experimentation and it allows to go from idea to result with the least possible delay without worrying about the numerical details of floating point operations, tensor algebra and GPU programming.\n",
        "\n",
        "To install the packages, select `All`, from the drop-down\n",
        "\n",
        "Search for `tensorflow` and select the check-mark to note the package should be installed.\n",
        "\n",
        "Finally click `Apply` at the bottom-right corner, and confirm the installation in the pop-up window.\n",
        "This will install all of the necessary packages, and make take some time.\n",
        "\n",
        "To test your installation:\n"
      ]
    },
    {
      "cell_type": "code",
      "execution_count": 26,
      "id": "08425542",
      "metadata": {
        "colab": {
          "base_uri": "https://localhost:8080/",
          "height": 35
        },
        "id": "08425542",
        "outputId": "93284be0-5cbc-4d80-cd27-9c985a2724bb"
      },
      "outputs": [
        {
          "data": {
            "application/vnd.google.colaboratory.intrinsic+json": {
              "type": "string"
            },
            "text/plain": [
              "'2.18.0'"
            ]
          },
          "execution_count": 26,
          "metadata": {},
          "output_type": "execute_result"
        }
      ],
      "source": [
        "import tensorflow as tf\n",
        "\n",
        "AUTOTUNE = tf.data.experimental.AUTOTUNE\n",
        "\n",
        "tf.__version__"
      ]
    },
    {
      "cell_type": "markdown",
      "id": "52f9cf6c",
      "metadata": {
        "id": "52f9cf6c"
      },
      "source": [
        "You should see the version number as output. It should be greater than 2.0.0\n"
      ]
    },
    {
      "cell_type": "markdown",
      "id": "bc831ef2",
      "metadata": {
        "id": "bc831ef2"
      },
      "source": [
        "Building the neural network requires configuring the layers of the model, then compiling the model and finally training the model.\n"
      ]
    },
    {
      "cell_type": "markdown",
      "id": "a9c29290",
      "metadata": {
        "id": "a9c29290"
      },
      "source": [
        "---\n",
        "\n",
        "## Set Up the Layers\n",
        "\n",
        "The basic building block of a neural network is the layer. Layers extract representations from the data fed into them. Hopefully, these representations are meaningful for the problem at hand.\n",
        "\n",
        "Most neural networks consists of chaining together simple layers. Most layers, such as `tf.keras.layers.Dense`, have parameters that are learned during training.\n",
        "\n",
        "A layer in the MLP is represented by `tf.keras.layers.Dense`. First lets define the dimensions of our neural network.\n"
      ]
    },
    {
      "cell_type": "markdown",
      "id": "6e788ff0",
      "metadata": {
        "id": "6e788ff0"
      },
      "source": [
        "There are three ways to build a model in tensorflow:\n",
        "\n",
        "- Functional API\n",
        "- Sub-classing\n",
        "- Sequential API\n",
        "\n",
        "We will use the `Sequential` API to build models as it is the simplest.\n"
      ]
    },
    {
      "cell_type": "code",
      "execution_count": 27,
      "id": "db4ec675",
      "metadata": {
        "colab": {
          "base_uri": "https://localhost:8080/"
        },
        "id": "db4ec675",
        "outputId": "50506ad5-bc09-48ce-fe1f-5212c897289f"
      },
      "outputs": [
        {
          "name": "stderr",
          "output_type": "stream",
          "text": [
            "/usr/local/lib/python3.11/dist-packages/keras/src/layers/reshaping/flatten.py:37: UserWarning: Do not pass an `input_shape`/`input_dim` argument to a layer. When using Sequential models, prefer using an `Input(shape)` object as the first layer in the model instead.\n",
            "  super().__init__(**kwargs)\n"
          ]
        }
      ],
      "source": [
        "import tensorflow as tf\n",
        "\n",
        "model = tf.keras.Sequential(\n",
        "    [\n",
        "        tf.keras.layers.Flatten(input_shape=INPUT_DIM),\n",
        "        tf.keras.layers.Dense(HIDDEN_LAYER_DIM, activation=\"sigmoid\"),\n",
        "        tf.keras.layers.Dense(OUTPUT_CLASSES),\n",
        "    ]\n",
        ")"
      ]
    },
    {
      "cell_type": "markdown",
      "id": "12c60d44",
      "metadata": {
        "id": "12c60d44"
      },
      "source": [
        "The first layer in this network, `tf.keras.layers.Flatten`, transforms the format of the images from a two-dimensional array (of 32 by 32 pixels) to a one-dimensional array (of 32 _ 32 _ 3 = 3072 pixels). Think of this layer as unstacking rows of pixels in the image and lining them up. This layer has no parameters to learn; it only reformats the data.\n",
        "\n",
        "After the pixels are flattened, the network consists of a sequence of two `tf.keras.layers.Dense` layers. These are densely connected, or fully connected (MLP), neural layers. The first Dense layer has 256 nodes (or neurons). The second (and last) layer returns a logits array with length of 10. Each node contains a score that indicates the current image belongs to one of the 10 classes.\n",
        "\n",
        "We can use `model.summary()` to print the model that was created.\n"
      ]
    },
    {
      "cell_type": "code",
      "execution_count": 28,
      "id": "8fde4656",
      "metadata": {
        "colab": {
          "base_uri": "https://localhost:8080/",
          "height": 225
        },
        "id": "8fde4656",
        "outputId": "70b75d93-ea12-4175-cc75-a0bc2dcac065"
      },
      "outputs": [
        {
          "data": {
            "text/html": [
              "<pre style=\"white-space:pre;overflow-x:auto;line-height:normal;font-family:Menlo,'DejaVu Sans Mono',consolas,'Courier New',monospace\"><span style=\"font-weight: bold\">Model: \"sequential_1\"</span>\n",
              "</pre>\n"
            ],
            "text/plain": [
              "\u001b[1mModel: \"sequential_1\"\u001b[0m\n"
            ]
          },
          "metadata": {},
          "output_type": "display_data"
        },
        {
          "data": {
            "text/html": [
              "<pre style=\"white-space:pre;overflow-x:auto;line-height:normal;font-family:Menlo,'DejaVu Sans Mono',consolas,'Courier New',monospace\">┏━━━━━━━━━━━━━━━━━━━━━━━━━━━━━━━━━┳━━━━━━━━━━━━━━━━━━━━━━━━┳━━━━━━━━━━━━━━━┓\n",
              "┃<span style=\"font-weight: bold\"> Layer (type)                    </span>┃<span style=\"font-weight: bold\"> Output Shape           </span>┃<span style=\"font-weight: bold\">       Param # </span>┃\n",
              "┡━━━━━━━━━━━━━━━━━━━━━━━━━━━━━━━━━╇━━━━━━━━━━━━━━━━━━━━━━━━╇━━━━━━━━━━━━━━━┩\n",
              "│ flatten_1 (<span style=\"color: #0087ff; text-decoration-color: #0087ff\">Flatten</span>)             │ (<span style=\"color: #00d7ff; text-decoration-color: #00d7ff\">None</span>, <span style=\"color: #00af00; text-decoration-color: #00af00\">3072</span>)           │             <span style=\"color: #00af00; text-decoration-color: #00af00\">0</span> │\n",
              "├─────────────────────────────────┼────────────────────────┼───────────────┤\n",
              "│ dense_2 (<span style=\"color: #0087ff; text-decoration-color: #0087ff\">Dense</span>)                 │ (<span style=\"color: #00d7ff; text-decoration-color: #00d7ff\">None</span>, <span style=\"color: #00af00; text-decoration-color: #00af00\">256</span>)            │       <span style=\"color: #00af00; text-decoration-color: #00af00\">786,688</span> │\n",
              "├─────────────────────────────────┼────────────────────────┼───────────────┤\n",
              "│ dense_3 (<span style=\"color: #0087ff; text-decoration-color: #0087ff\">Dense</span>)                 │ (<span style=\"color: #00d7ff; text-decoration-color: #00d7ff\">None</span>, <span style=\"color: #00af00; text-decoration-color: #00af00\">10</span>)             │         <span style=\"color: #00af00; text-decoration-color: #00af00\">2,570</span> │\n",
              "└─────────────────────────────────┴────────────────────────┴───────────────┘\n",
              "</pre>\n"
            ],
            "text/plain": [
              "┏━━━━━━━━━━━━━━━━━━━━━━━━━━━━━━━━━┳━━━━━━━━━━━━━━━━━━━━━━━━┳━━━━━━━━━━━━━━━┓\n",
              "┃\u001b[1m \u001b[0m\u001b[1mLayer (type)                   \u001b[0m\u001b[1m \u001b[0m┃\u001b[1m \u001b[0m\u001b[1mOutput Shape          \u001b[0m\u001b[1m \u001b[0m┃\u001b[1m \u001b[0m\u001b[1m      Param #\u001b[0m\u001b[1m \u001b[0m┃\n",
              "┡━━━━━━━━━━━━━━━━━━━━━━━━━━━━━━━━━╇━━━━━━━━━━━━━━━━━━━━━━━━╇━━━━━━━━━━━━━━━┩\n",
              "│ flatten_1 (\u001b[38;5;33mFlatten\u001b[0m)             │ (\u001b[38;5;45mNone\u001b[0m, \u001b[38;5;34m3072\u001b[0m)           │             \u001b[38;5;34m0\u001b[0m │\n",
              "├─────────────────────────────────┼────────────────────────┼───────────────┤\n",
              "│ dense_2 (\u001b[38;5;33mDense\u001b[0m)                 │ (\u001b[38;5;45mNone\u001b[0m, \u001b[38;5;34m256\u001b[0m)            │       \u001b[38;5;34m786,688\u001b[0m │\n",
              "├─────────────────────────────────┼────────────────────────┼───────────────┤\n",
              "│ dense_3 (\u001b[38;5;33mDense\u001b[0m)                 │ (\u001b[38;5;45mNone\u001b[0m, \u001b[38;5;34m10\u001b[0m)             │         \u001b[38;5;34m2,570\u001b[0m │\n",
              "└─────────────────────────────────┴────────────────────────┴───────────────┘\n"
            ]
          },
          "metadata": {},
          "output_type": "display_data"
        },
        {
          "data": {
            "text/html": [
              "<pre style=\"white-space:pre;overflow-x:auto;line-height:normal;font-family:Menlo,'DejaVu Sans Mono',consolas,'Courier New',monospace\"><span style=\"font-weight: bold\"> Total params: </span><span style=\"color: #00af00; text-decoration-color: #00af00\">789,258</span> (3.01 MB)\n",
              "</pre>\n"
            ],
            "text/plain": [
              "\u001b[1m Total params: \u001b[0m\u001b[38;5;34m789,258\u001b[0m (3.01 MB)\n"
            ]
          },
          "metadata": {},
          "output_type": "display_data"
        },
        {
          "data": {
            "text/html": [
              "<pre style=\"white-space:pre;overflow-x:auto;line-height:normal;font-family:Menlo,'DejaVu Sans Mono',consolas,'Courier New',monospace\"><span style=\"font-weight: bold\"> Trainable params: </span><span style=\"color: #00af00; text-decoration-color: #00af00\">789,258</span> (3.01 MB)\n",
              "</pre>\n"
            ],
            "text/plain": [
              "\u001b[1m Trainable params: \u001b[0m\u001b[38;5;34m789,258\u001b[0m (3.01 MB)\n"
            ]
          },
          "metadata": {},
          "output_type": "display_data"
        },
        {
          "data": {
            "text/html": [
              "<pre style=\"white-space:pre;overflow-x:auto;line-height:normal;font-family:Menlo,'DejaVu Sans Mono',consolas,'Courier New',monospace\"><span style=\"font-weight: bold\"> Non-trainable params: </span><span style=\"color: #00af00; text-decoration-color: #00af00\">0</span> (0.00 B)\n",
              "</pre>\n"
            ],
            "text/plain": [
              "\u001b[1m Non-trainable params: \u001b[0m\u001b[38;5;34m0\u001b[0m (0.00 B)\n"
            ]
          },
          "metadata": {},
          "output_type": "display_data"
        }
      ],
      "source": [
        "model.summary()"
      ]
    },
    {
      "cell_type": "markdown",
      "id": "28b5e624",
      "metadata": {
        "id": "28b5e624"
      },
      "source": [
        "The `tf.keras.utils.plot_model` shows the model as a figure:\n"
      ]
    },
    {
      "cell_type": "code",
      "execution_count": 29,
      "id": "5ba98364",
      "metadata": {
        "colab": {
          "base_uri": "https://localhost:8080/",
          "height": 939
        },
        "id": "5ba98364",
        "outputId": "36800a1e-84f9-4680-a12f-bbbd4e119723"
      },
      "outputs": [
        {
          "data": {
            "image/png": "[encoded data removed]",
            "text/plain": [
              "<IPython.core.display.Image object>"
            ]
          },
          "execution_count": 29,
          "metadata": {},
          "output_type": "execute_result"
        }
      ],
      "source": [
        "tf.keras.utils.plot_model(model, show_shapes=True)"
      ]
    },
    {
      "cell_type": "markdown",
      "id": "ce3da6d0",
      "metadata": {
        "id": "ce3da6d0"
      },
      "source": [
        "> ✅ Task: Read the tensorflow documentation on `Sequential` models [url](https://www.tensorflow.org/api_docs/python/tf/keras/Sequential).\n"
      ]
    },
    {
      "cell_type": "markdown",
      "id": "ff619063",
      "metadata": {
        "id": "ff619063"
      },
      "source": [
        "---\n",
        "\n",
        "## Compile the Model\n",
        "\n",
        "Before the model is ready for training, it needs a few more settings. These are added during the model's compile step:\n",
        "\n",
        "- **Loss function**: This measures how accurate the model is during training. You want to minimize this function to \"steer\" the model in the right direction.\n",
        "- **Optimizer**: This is how the model is updated based on the data it sees and its loss function.\n",
        "- **Metrics**: Used to monitor the training and testing steps. The following example uses accuracy, the fraction of the images that are correctly classified.\n"
      ]
    },
    {
      "cell_type": "code",
      "execution_count": 30,
      "id": "f0f75603",
      "metadata": {
        "id": "f0f75603"
      },
      "outputs": [],
      "source": [
        "model.compile(\n",
        "    optimizer=\"SGD\",\n",
        "    loss=tf.keras.losses.CategoricalCrossentropy(from_logits=True),\n",
        "    metrics=[\"categorical_accuracy\"],\n",
        ")"
      ]
    },
    {
      "cell_type": "markdown",
      "id": "dd48183d",
      "metadata": {
        "id": "dd48183d"
      },
      "source": [
        "> ✅ Task: Read the tensorflow documentation on `losses` models [url](https://www.tensorflow.org/api_docs/python/tf/keras/losses) to identify other possible options for loss.\n",
        "\n",
        "> ✅ Task: Read the tensorflow documentation on `metrics` models [url](https://www.tensorflow.org/api_docs/python/tf/keras/metrics) to identify other possible options for metric.\n"
      ]
    },
    {
      "cell_type": "markdown",
      "id": "9c973d70",
      "metadata": {
        "id": "9c973d70"
      },
      "source": [
        "---\n",
        "\n",
        "## Train the Model\n",
        "\n",
        "Now we are ready to train the model. As are going to work with much larger and more complicated data set, that neural network are more suited towards, we need to write efficient code to load the data in batches to memory. This is done in keras using Image data generators.\n",
        "\n",
        "To help we will define a loading function that takes the data frames we defined earlier:\n",
        "\n",
        "We can use the `flow_from_dataframe` function in the keras data loader to load a set of images directly from a pandas data frame (the data frame should contain the image names (path) and the labels)\n"
      ]
    },
    {
      "cell_type": "markdown",
      "id": "a0a2b11e",
      "metadata": {
        "id": "a0a2b11e"
      },
      "source": [
        "For some reason `ImageDataGenerator` need the labels to be in string format. Lets do that:\n"
      ]
    },
    {
      "cell_type": "code",
      "execution_count": 31,
      "id": "1b466671",
      "metadata": {
        "id": "1b466671"
      },
      "outputs": [],
      "source": [
        "train_data[\"Class\"] = train_data[\"Class\"].astype(\"str\")\n",
        "val_data[\"Class\"] = val_data[\"Class\"].astype(\"str\")"
      ]
    },
    {
      "cell_type": "code",
      "execution_count": 32,
      "id": "3ebc0fe1",
      "metadata": {
        "id": "3ebc0fe1"
      },
      "outputs": [],
      "source": [
        "from tensorflow.keras.preprocessing.image import ImageDataGenerator\n",
        "\n",
        "train_datagen = ImageDataGenerator(rescale=1.0 / 255, data_format=\"channels_last\")\n",
        "val_datagen = ImageDataGenerator(rescale=1.0 / 255, data_format=\"channels_last\")"
      ]
    },
    {
      "cell_type": "code",
      "execution_count": 33,
      "id": "e4cb6471",
      "metadata": {
        "colab": {
          "base_uri": "https://localhost:8080/"
        },
        "id": "e4cb6471",
        "outputId": "380e862d-9f86-4b8b-e84e-0dbdd2ff7670"
      },
      "outputs": [
        {
          "name": "stdout",
          "output_type": "stream",
          "text": [
            "Found 6000 validated image filenames belonging to 10 classes.\n",
            "Found 2000 validated image filenames belonging to 10 classes.\n"
          ]
        }
      ],
      "source": [
        "batch_size = 32\n",
        "\n",
        "train_generator = train_datagen.flow_from_dataframe(\n",
        "    dataframe=train_data,\n",
        "    directory=\"./\",\n",
        "    x_col=\"ImgPath\",\n",
        "    y_col=\"Class\",\n",
        "    target_size=(32, 32),\n",
        "    batch_size=batch_size,\n",
        "    class_mode=\"categorical\",\n",
        ")\n",
        "\n",
        "validation_generator = val_datagen.flow_from_dataframe(\n",
        "    dataframe=val_data,\n",
        "    directory=\"./\",\n",
        "    x_col=\"ImgPath\",\n",
        "    y_col=\"Class\",\n",
        "    target_size=(32, 32),\n",
        "    batch_size=batch_size,\n",
        "    class_mode=\"categorical\",\n",
        ")"
      ]
    },
    {
      "cell_type": "markdown",
      "id": "b14c4662",
      "metadata": {
        "id": "b14c4662"
      },
      "source": [
        "With this, the training the validation data can be loaded.\n",
        "You will need to supply the appropriate directory. Usually each pixels varies from 0-255, but it's highly recommended to normalize them in range of 0-1 to speed up the training process.\n",
        "The dataloader also do a simple normalisation on the pixel values directly.\n",
        "\n",
        "Now we can use a simple `model.fit()` in Keras to train the model.\n"
      ]
    },
    {
      "cell_type": "code",
      "execution_count": 34,
      "id": "aced0a50",
      "metadata": {
        "colab": {
          "base_uri": "https://localhost:8080/"
        },
        "id": "aced0a50",
        "outputId": "3320b4d6-78ce-48c8-8223-afdb6ce0165b"
      },
      "outputs": [
        {
          "name": "stderr",
          "output_type": "stream",
          "text": [
            "/usr/local/lib/python3.11/dist-packages/keras/src/trainers/data_adapters/py_dataset_adapter.py:121: UserWarning: Your `PyDataset` class should call `super().__init__(**kwargs)` in its constructor. `**kwargs` can include `workers`, `use_multiprocessing`, `max_queue_size`. Do not pass these arguments to `fit()`, as they will be ignored.\n",
            "  self._warn_if_super_not_called()\n"
          ]
        }
      ],
      "source": [
        "history = model.fit(\n",
        "    train_generator, validation_data=validation_generator, epochs=50, verbose=0\n",
        ")"
      ]
    },
    {
      "cell_type": "code",
      "execution_count": 35,
      "id": "1b802f1b",
      "metadata": {
        "colab": {
          "base_uri": "https://localhost:8080/",
          "height": 465
        },
        "id": "1b802f1b",
        "outputId": "55b858c4-a2e7-4b2b-8122-e16b4222a839"
      },
      "outputs": [
        {
          "data": {
            "image/png": "[encoded data removed]",
            "text/plain": [
              "<Figure size 1000x500 with 2 Axes>"
            ]
          },
          "metadata": {},
          "output_type": "display_data"
        }
      ],
      "source": [
        "plot_learning_curve(\n",
        "    history.history[\"loss\"],\n",
        "    history.history[\"val_loss\"],\n",
        "    history.history[\"categorical_accuracy\"],\n",
        "    history.history[\"val_categorical_accuracy\"],\n",
        "    metric_name=\"Accuracy\",\n",
        ")"
      ]
    },
    {
      "cell_type": "markdown",
      "id": "ab16e4df",
      "metadata": {
        "id": "ab16e4df"
      },
      "source": [
        "Now you know how to setup a neural network and train it in tensorflow.\n"
      ]
    },
    {
      "cell_type": "markdown",
      "id": "758e121a",
      "metadata": {
        "id": "758e121a"
      },
      "source": [
        "---\n",
        "\n",
        "## Incremental Changes\n",
        "\n",
        "Next step is doing the incremental updates to improve the performance. Observe the loss curves and act accordingly. Some options are.\n",
        "\n",
        "**If the model is under fitting:**\n",
        "\n",
        "1. Increase the number of neurones in the hidden layer\n",
        "2. Increase the number of hidden layers\n",
        "\n",
        "**If the model is over fitting:**\n",
        "\n",
        "1. Add regulatization: Lasso/Ridge penalty\n",
        "2. Add dropout\n",
        "3. Reduce number of neurones in each layer or number of layers.\n",
        "\n",
        "Some of the steps are done in the Lecture Q&A code for week 9 module - neural networks. You can get the basic syntax from there and implement accordingly.\n",
        "\n",
        "> ✅ Task: Tune the neural network model to get the best performance possible.\n"
      ]
    },
    {
      "cell_type": "markdown",
      "id": "bd993a66",
      "metadata": {
        "id": "bd993a66"
      },
      "source": [
        "---\n",
        "\n",
        "## Testing the Final Model\n",
        "\n",
        "Now lets test our final model on the test data.\n",
        "\n",
        "First we will create a data generator to get the test data:\n"
      ]
    },
    {
      "cell_type": "code",
      "execution_count": 36,
      "id": "0c72d61c",
      "metadata": {
        "colab": {
          "base_uri": "https://localhost:8080/"
        },
        "id": "0c72d61c",
        "outputId": "9b7cb532-2879-480e-db8b-3ceb9e92bf6a"
      },
      "outputs": [
        {
          "name": "stdout",
          "output_type": "stream",
          "text": [
            "Found 2000 validated image filenames belonging to 10 classes.\n"
          ]
        }
      ],
      "source": [
        "test_data[\"Class\"] = test_data[\"Class\"].astype(\"str\")\n",
        "\n",
        "test_datagen = ImageDataGenerator(rescale=1.0 / 255, data_format=\"channels_last\")\n",
        "\n",
        "batch_size = 1\n",
        "\n",
        "test_generator = test_datagen.flow_from_dataframe(\n",
        "    dataframe=test_data,\n",
        "    directory=\"./\",\n",
        "    x_col=\"ImgPath\",\n",
        "    y_col=\"Class\",\n",
        "    target_size=(32, 32),\n",
        "    batch_size=batch_size,\n",
        "    class_mode=\"categorical\",\n",
        ")"
      ]
    },
    {
      "cell_type": "code",
      "execution_count": 37,
      "id": "086788c8",
      "metadata": {
        "colab": {
          "base_uri": "https://localhost:8080/"
        },
        "id": "086788c8",
        "outputId": "c7a4e96b-14b3-45d5-9588-151f8fb5b119"
      },
      "outputs": [
        {
          "name": "stdout",
          "output_type": "stream",
          "text": [
            "\u001b[1m  42/2000\u001b[0m \u001b[37m━━━━━━━━━━━━━━━━━━━━\u001b[0m \u001b[1m4s\u001b[0m 3ms/step - categorical_accuracy: 0.4740 - loss: 1.7118"
          ]
        },
        {
          "name": "stderr",
          "output_type": "stream",
          "text": [
            "/usr/local/lib/python3.11/dist-packages/keras/src/trainers/data_adapters/py_dataset_adapter.py:121: UserWarning: Your `PyDataset` class should call `super().__init__(**kwargs)` in its constructor. `**kwargs` can include `workers`, `use_multiprocessing`, `max_queue_size`. Do not pass these arguments to `fit()`, as they will be ignored.\n",
            "  self._warn_if_super_not_called()\n"
          ]
        },
        {
          "name": "stdout",
          "output_type": "stream",
          "text": [
            "\u001b[1m2000/2000\u001b[0m \u001b[32m━━━━━━━━━━━━━━━━━━━━\u001b[0m\u001b[37m\u001b[0m \u001b[1m5s\u001b[0m 3ms/step - categorical_accuracy: 0.4034 - loss: 1.7413\n"
          ]
        },
        {
          "data": {
            "text/plain": [
              "[1.7259700298309326, 0.3955000042915344]"
            ]
          },
          "execution_count": 37,
          "metadata": {},
          "output_type": "execute_result"
        }
      ],
      "source": [
        "model.evaluate(test_generator)"
      ]
    },
    {
      "cell_type": "markdown",
      "id": "be92aa16",
      "metadata": {
        "id": "be92aa16"
      },
      "source": [
        "---\n",
        "\n",
        "## Ploting some results\n",
        "\n",
        "Lets visualize the output of our network:\n"
      ]
    },
    {
      "cell_type": "code",
      "execution_count": 38,
      "id": "a7f27459",
      "metadata": {
        "id": "a7f27459"
      },
      "outputs": [],
      "source": [
        "label_names = {\n",
        "    \"airplane\": 0,\n",
        "    \"automobile\": 1,\n",
        "    \"bird\": 2,\n",
        "    \"cat\": 3,\n",
        "    \"deer\": 4,\n",
        "    \"dog\": 5,\n",
        "    \"frog\": 6,\n",
        "    \"horse\": 7,\n",
        "    \"ship\": 8,\n",
        "    \"truck\": 9,\n",
        "}"
      ]
    },
    {
      "cell_type": "code",
      "execution_count": 39,
      "id": "5e85fdd8",
      "metadata": {
        "colab": {
          "base_uri": "https://localhost:8080/",
          "height": 273
        },
        "id": "5e85fdd8",
        "outputId": "5cbbaaee-ca94-4c32-e759-bffd596444c9"
      },
      "outputs": [
        {
          "data": {
            "image/png": "[encoded data removed]",
            "text/plain": [
              "<Figure size 1600x400 with 4 Axes>"
            ]
          },
          "metadata": {},
          "output_type": "display_data"
        }
      ],
      "source": [
        "d_inv = {v: k for k, v in label_names.items()}\n",
        "plt.figure(figsize=(16, 4))\n",
        "batches = 0\n",
        "for x, y in test_generator:\n",
        "    batches = batches + 1\n",
        "    y_hat = model.predict(x, verbose=0)\n",
        "    x = np.squeeze(x)\n",
        "    if batches < 5:\n",
        "        plt.subplot(1, 5, batches)\n",
        "        plt.imshow(x)\n",
        "        plt.title(\n",
        "            \"GT-{}, Pred-{}\".format(d_inv[np.argmax(y[0])], d_inv[np.argmax(y_hat[0])])\n",
        "        )\n",
        "\n",
        "    else:\n",
        "        break\n",
        "\n",
        "    plt.axis(\"off\")"
      ]
    }
  ],
  "metadata": {
    "colab": {
      "provenance": []
    },
    "kernelspec": {
      "display_name": "rmit_machine_learning",
      "language": "python",
      "name": "python3"
    },
    "language_info": {
      "codemirror_mode": {
        "name": "ipython",
        "version": 3
      },
      "file_extension": ".py",
      "mimetype": "text/x-python",
      "name": "python",
      "nbconvert_exporter": "python",
      "pygments_lexer": "ipython3",
      "version": "3.12.3"
    }
  },
  "nbformat": 4,
  "nbformat_minor": 5
}
