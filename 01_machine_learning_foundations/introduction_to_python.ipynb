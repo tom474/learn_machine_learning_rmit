{
 "cells": [
  {
   "cell_type": "markdown",
   "metadata": {},
   "source": [
    "---\n",
    "# COSC2753 | Machine Learning\n",
    "\n",
    "## Week 1 Lab Exercises: Introduction to Python\n",
    "---\n",
    "\n",
    "We will be using the Python programming language for all lab exercises & assignments in this course. Python is a great general-purpose programming language on its own, but with the help of a few popular libraries (numpy, matplotlib, scikit-learn) it becomes a powerful environment for machine learning.\n",
    "\n",
    "We expect most students to be familiar with python. If you are unfamiliar with Python, you will need to get yourself up to speed. However, don't stress to much. This course doesn't focus on programming, so you won't need to learn too much Python to be able to complete the labs and assignments.\n",
    "\n",
    "The following lab exercise will provide you a quick crash course on both the Python programming language basics so that you can get yourself up to speed.\n",
    "\n",
    "**Note:**\n",
    "This tutorial is NOT designed to give you a comprehensive understanding of python and numpy. It is aimed to refreshing your python skills and giving you a start. If you like to learn python from scratch, a LinkedIn learning course is provided at Canvas week 1 module.\n"
   ]
  },
  {
   "cell_type": "markdown",
   "metadata": {},
   "source": [
    "### Before Starting the Lab\n",
    "\n",
    "- You need to install `anaconda` on your local machine or log in to AWS classroom setup for the course (Instruction at Canvas)\n",
    "- You need to be familiar with starting an IPython/Jupiter Notebook (Instruction at Canvas)\n"
   ]
  },
  {
   "cell_type": "markdown",
   "metadata": {},
   "source": [
    "### Check Python Version\n",
    "\n",
    "In this course we will be using `python3`. You can double check-your Python version at the command line after activating your environment by running shell command `python --version`. In the notebook environment, you can run shell commands by adding a `!` in front of the command. Run below cell to get the python version for your notebook.\n"
   ]
  },
  {
   "cell_type": "code",
   "execution_count": 38,
   "metadata": {},
   "outputs": [
    {
     "name": "stdout",
     "output_type": "stream",
     "text": [
      "Python 3.13.2\n"
     ]
    }
   ],
   "source": [
    "!python --version"
   ]
  },
  {
   "cell_type": "markdown",
   "metadata": {},
   "source": [
    "---\n",
    "\n",
    "## Basic DataTypes and Operations\n",
    "\n",
    "Like most programming languages, python has several data types and supports many mathematical and logical operations.\n",
    "\n",
    "| Type     | Data                         |\n",
    "| -------- | ---------------------------- |\n",
    "| Text     | str                          |\n",
    "| Numeric  | int, float, complex          |\n",
    "| Sequence | list, tuple, range           |\n",
    "| Mapping  | dict                         |\n",
    "| Set      | set, frozenset               |\n",
    "| Boolean  | bool                         |\n",
    "| Binary   | bytes, bytearray, memoryview |\n"
   ]
  },
  {
   "cell_type": "markdown",
   "metadata": {},
   "source": [
    "### Numeric Types\n",
    "\n",
    "Unlike C++ (or other programming languages) we do not have to define the data type of a variable in python. It is inferred automatically and the data type of a variable can be printed as:\n"
   ]
  },
  {
   "cell_type": "code",
   "execution_count": 1,
   "metadata": {},
   "outputs": [
    {
     "name": "stdout",
     "output_type": "stream",
     "text": [
      "<class 'int'>\n"
     ]
    }
   ],
   "source": [
    "x = 3\n",
    "print(type(x))"
   ]
  },
  {
   "cell_type": "markdown",
   "metadata": {},
   "source": [
    "We can also perform command mathematical operations on these numeric data types.\n"
   ]
  },
  {
   "cell_type": "code",
   "execution_count": 2,
   "metadata": {},
   "outputs": [
    {
     "name": "stdout",
     "output_type": "stream",
     "text": [
      "3\n",
      "4\n",
      "2\n",
      "6\n",
      "9\n",
      "4\n",
      "8\n"
     ]
    }
   ],
   "source": [
    "print(x)        # Print \"3\"\n",
    "print(x + 1)    # Addition; print \"4\"\n",
    "print(x - 1)    # Subtraction; print \"2\"\n",
    "print(x * 2)    # Multiplication; print \"6\"\n",
    "print(x**2)     # Exponentiation; print \"9\"\n",
    "x += 1\n",
    "print(x)        # Print \"4\"\n",
    "x *= 2\n",
    "print(x)        # Print \"8\""
   ]
  },
  {
   "cell_type": "markdown",
   "metadata": {},
   "source": [
    "Same can be done with floats.\n"
   ]
  },
  {
   "cell_type": "code",
   "execution_count": 3,
   "metadata": {},
   "outputs": [
    {
     "name": "stdout",
     "output_type": "stream",
     "text": [
      "<class 'float'>\n",
      "2.5 3.5 5.0 6.25\n"
     ]
    }
   ],
   "source": [
    "y = 2.5\n",
    "print(type(y))\n",
    "print(y, y + 1, y * 2, y**2)"
   ]
  },
  {
   "cell_type": "markdown",
   "metadata": {},
   "source": [
    "### Logical Operators\n",
    "\n",
    "Python implements all of the usual operators for Boolean logic, but uses English words rather the symbols.\n"
   ]
  },
  {
   "cell_type": "code",
   "execution_count": 4,
   "metadata": {},
   "outputs": [
    {
     "name": "stdout",
     "output_type": "stream",
     "text": [
      "<class 'bool'>\n",
      "False\n",
      "True\n",
      "False\n",
      "True\n"
     ]
    }
   ],
   "source": [
    "t = True\n",
    "f = False\n",
    "print(type(t))  # Print \"<class 'bool'>\"\n",
    "print(t and f)  # Logical AND; print \"False\"\n",
    "print(t or f)   # Logical OR; print \"True\"\n",
    "print(not t)    # Logical NOT; print \"False\"\n",
    "print(t != f)   # Logical XOR; print \"True\""
   ]
  },
  {
   "cell_type": "markdown",
   "metadata": {},
   "source": [
    "### String Support in Python\n"
   ]
  },
  {
   "cell_type": "code",
   "execution_count": 5,
   "metadata": {},
   "outputs": [
    {
     "name": "stdout",
     "output_type": "stream",
     "text": [
      "hello\n",
      "5\n",
      "hello world\n",
      "hello world 12\n"
     ]
    }
   ],
   "source": [
    "hello = \"hello\"     # String literals can use single quotes\n",
    "world = \"world\"     # or double quotes; it does not matter.\n",
    "print(hello)\n",
    "print(len(hello))\n",
    "hw = hello + \" \" + world    # String concatenation\n",
    "print(hw)\n",
    "hw12 = \"%s %s %d\" % (hello, world, 12)  # printf style string formatting\n",
    "print(hw12)"
   ]
  },
  {
   "cell_type": "markdown",
   "metadata": {},
   "source": [
    "### Some Useful Methods in String Class for Data Preprocessing and Cleaning\n"
   ]
  },
  {
   "cell_type": "code",
   "execution_count": 6,
   "metadata": {},
   "outputs": [
    {
     "name": "stdout",
     "output_type": "stream",
     "text": [
      "Hello\n",
      "HELLO\n",
      "he(ell)(ell)o\n",
      "world\n"
     ]
    }
   ],
   "source": [
    "s = \"hello\"\n",
    "print(s.capitalize())           # Capitalize a string; print \"Hello\"\n",
    "print(s.upper())                # Convert a string to uppercase; print \"HELLO\"\n",
    "print(s.replace(\"l\", \"(ell)\"))  # Replace all instances of one substring with another; print \"he(ell)(ell)o\"\n",
    "print(\"  world \".strip())       # Strip leading and trailing whitespace; print \"world\""
   ]
  },
  {
   "cell_type": "markdown",
   "metadata": {},
   "source": [
    "---\n",
    "\n",
    "## Containers\n",
    "\n",
    "Python includes several built-in data types to store collections of data: lists, dictionaries, sets, and tuples.\n"
   ]
  },
  {
   "cell_type": "markdown",
   "metadata": {},
   "source": [
    "### Lists\n",
    "\n",
    "List are like arrays and they are very flexible:\n",
    "\n",
    "- Can be sliced & resized.\n",
    "- Can contain elements of different types.\n"
   ]
  },
  {
   "cell_type": "code",
   "execution_count": 7,
   "metadata": {},
   "outputs": [
    {
     "name": "stdout",
     "output_type": "stream",
     "text": [
      "1 3\n",
      "1 three\n",
      "4\n",
      "[1, 2, 'three', 4, 5]\n",
      "Length of list is:  5\n"
     ]
    }
   ],
   "source": [
    "list1 = [1, 2, 3, 4]        # Define and initialize a list\n",
    "print(list1[0], list1[2])\n",
    "\n",
    "list1[2] = \"three\"          # Change element to a different data type\n",
    "print(list1[0], list1[2])\n",
    "\n",
    "print(list1[-1])            # Negative indices count from the end of the list; print \"2\"\n",
    "\n",
    "list1.append(5)             # Add a new element to the end of the list\n",
    "print(list1)                # Print \"[1, 2, 'three', 4, 5]\"\n",
    "\n",
    "# Print length of list\n",
    "print(\"Length of list is: \", len(list1))"
   ]
  },
  {
   "cell_type": "markdown",
   "metadata": {},
   "source": [
    "We can also access several elements of a list at ones using slicing.\n"
   ]
  },
  {
   "cell_type": "code",
   "execution_count": 8,
   "metadata": {},
   "outputs": [
    {
     "name": "stdout",
     "output_type": "stream",
     "text": [
      "[0, 1, 2, 3, 4, 5, 6, 7, 8, 9]\n",
      "[2, 3]\n",
      "[2, 3, 4, 5, 6, 7, 8, 9]\n",
      "[0, 1]\n",
      "[0, 1, 2, 3, 4, 5, 6, 7, 8]\n",
      "[1, 3, 5]\n",
      "[9, 8, 7, 6, 5, 4, 3, 2, 1, 0]\n",
      "[0, 1, 8, 9, 4, 5, 6, 7, 8, 9]\n"
     ]
    }
   ],
   "source": [
    "list2 = list(range(10))     # range is a built-in function that creates a list of integers\n",
    "print(list2)\n",
    "print(list2[2:4])           # Get a slice from index 2 to 4\n",
    "print(list2[2:])            # Get a slice from index 2 to the end\n",
    "print(list2[:2])            # Get a slice from the start to index 2\n",
    "print(list2[:-1])           # Slice indices can be negative, start to end - 1\n",
    "print(list2[1:7:2])         # Get a slice of every other element from index 1 to 6\n",
    "print(list2[::-1])          # Reverse the list order\n",
    "list2[2:4] = [8, 9]         # Assign a new sublist to a slice\n",
    "print(list2)"
   ]
  },
  {
   "cell_type": "markdown",
   "metadata": {},
   "source": [
    "Loop over list elements\n"
   ]
  },
  {
   "cell_type": "code",
   "execution_count": 9,
   "metadata": {},
   "outputs": [
    {
     "name": "stdout",
     "output_type": "stream",
     "text": [
      "31.2\n",
      "36.1\n",
      "37.6\n",
      "34.1\n"
     ]
    }
   ],
   "source": [
    "temperatures = [30.2, 35.1, 36.6, 33.1]\n",
    "for temperature in temperatures:\n",
    "    print(temperature + 1)"
   ]
  },
  {
   "cell_type": "markdown",
   "metadata": {},
   "source": [
    "If you want access to the index of each element within the body of a loop, use the built-in `enumerate` function:\n"
   ]
  },
  {
   "cell_type": "code",
   "execution_count": 10,
   "metadata": {},
   "outputs": [
    {
     "name": "stdout",
     "output_type": "stream",
     "text": [
      "Temperature of patient 1 is 30.20 degrees\n",
      "Temperature of patient 2 is 35.10 degrees\n",
      "Temperature of patient 3 is 36.60 degrees\n",
      "Temperature of patient 4 is 33.10 degrees\n"
     ]
    }
   ],
   "source": [
    "temperatures = [30.2, 35.1, 36.6, 33.1]\n",
    "for inx, temperature in enumerate(temperatures):\n",
    "    print(\"Temperature of patient {} is {:.2f} degrees\".format(inx + 1, temperature))"
   ]
  },
  {
   "cell_type": "markdown",
   "metadata": {},
   "source": [
    "### List Comprehensions\n",
    "\n",
    "Can be used to modify the elements of a list."
   ]
  },
  {
   "cell_type": "code",
   "execution_count": 11,
   "metadata": {},
   "outputs": [
    {
     "name": "stdout",
     "output_type": "stream",
     "text": [
      "[0, 1, 4, 9, 16]\n"
     ]
    }
   ],
   "source": [
    "nums = [0, 1, 2, 3, 4]\n",
    "squares = []\n",
    "for x in nums:\n",
    "    squares.append(x**2)\n",
    "print(squares)"
   ]
  },
  {
   "cell_type": "markdown",
   "metadata": {},
   "source": [
    "In python there is an easier and cleaner way of doing this."
   ]
  },
  {
   "cell_type": "code",
   "execution_count": 12,
   "metadata": {},
   "outputs": [
    {
     "name": "stdout",
     "output_type": "stream",
     "text": [
      "[0, 1, 4, 9, 16]\n"
     ]
    }
   ],
   "source": [
    "nums = [0, 1, 2, 3, 4]\n",
    "squares = [x**2 for x in nums]\n",
    "print(squares)"
   ]
  },
  {
   "cell_type": "markdown",
   "metadata": {},
   "source": [
    "Conditions can also be added to list comprehensions."
   ]
  },
  {
   "cell_type": "code",
   "execution_count": 13,
   "metadata": {},
   "outputs": [
    {
     "name": "stdout",
     "output_type": "stream",
     "text": [
      "[0, 4, 16]\n"
     ]
    }
   ],
   "source": [
    "nums = [0, 1, 2, 3, 4]\n",
    "even_squares = [x ** 2 for x in nums if x % 2 == 0]\n",
    "print(even_squares)"
   ]
  },
  {
   "cell_type": "markdown",
   "metadata": {},
   "source": [
    "### Dictionaries\n",
    "\n",
    "A dictionary stores a key and value pairs. For example, you can use a dictionary to hold the information for a given student."
   ]
  },
  {
   "cell_type": "code",
   "execution_count": 14,
   "metadata": {},
   "outputs": [
    {
     "name": "stdout",
     "output_type": "stream",
     "text": [
      "John\n",
      "True\n",
      "{'first_name': 'John', 'last_name': 'Doe', 'age': 27, 'ML Marks': 85, 'DSA Marks': 86}\n",
      "N/A\n",
      "85\n",
      "{'first_name': 'John', 'last_name': 'Doe', 'ML Marks': 85, 'DSA Marks': 86}\n"
     ]
    }
   ],
   "source": [
    "# Create a new dictionary with some data\n",
    "d = {\"first_name\": \"John\", \"last_name\": \"Doe\", \"age\": 27, \"ML Marks\": 85}\n",
    "\n",
    "print(d[\"first_name\"])  # Get an entry from a dictionary\n",
    "print(\"age\" in d)       # Check if a dictionary has a given key\n",
    "d[\"DSA Marks\"] = 86     # Set an entry in a dictionary\n",
    "print(d)\n",
    "\n",
    "print(d.get(\"APT Marks\", \"N/A\"))    # Get an element with a default value\n",
    "print(d.get(\"ML Marks\", \"N/A\"))     # Get an element with a default value\n",
    "del d[\"age\"]                        # Remove an element from a dictionary\n",
    "print(d)                            # \"age\" no longer a key"
   ]
  },
  {
   "cell_type": "markdown",
   "metadata": {},
   "source": [
    "### Loop over Dictionaries"
   ]
  },
  {
   "cell_type": "code",
   "execution_count": 15,
   "metadata": {},
   "outputs": [
    {
     "name": "stdout",
     "output_type": "stream",
     "text": [
      "Key `first_name` has value `John`\n",
      "Key `last_name` has value `Doe`\n",
      "Key `age` has value `27`\n",
      "Key `ML Marks` has value `85`\n"
     ]
    }
   ],
   "source": [
    "d = {\"first_name\": \"John\", \"last_name\": \"Doe\", \"age\": 27, \"ML Marks\": 85}\n",
    "for key in d:\n",
    "    value = d[key]\n",
    "    print(\"Key `{}` has value `{}`\".format(key, value))"
   ]
  },
  {
   "cell_type": "markdown",
   "metadata": {},
   "source": [
    "If you want to access keys and their corresponding values, use the `items()` method:"
   ]
  },
  {
   "cell_type": "code",
   "execution_count": 16,
   "metadata": {},
   "outputs": [
    {
     "name": "stdout",
     "output_type": "stream",
     "text": [
      "Key `first_name` has value `John`\n",
      "Key `last_name` has value `Doe`\n",
      "Key `age` has value `27`\n",
      "Key `ML Marks` has value `85`\n"
     ]
    }
   ],
   "source": [
    "d = {\"first_name\": \"John\", \"last_name\": \"Doe\", \"age\": 27, \"ML Marks\": 85}\n",
    "for key, value in d.items():\n",
    "    print(\"Key `{}` has value `{}`\".format(key, value))"
   ]
  },
  {
   "cell_type": "markdown",
   "metadata": {},
   "source": [
    "Similar to list, comprehensions allow you to easily construct dictionaries."
   ]
  },
  {
   "cell_type": "code",
   "execution_count": 17,
   "metadata": {},
   "outputs": [
    {
     "name": "stdout",
     "output_type": "stream",
     "text": [
      "{0: 0, 2: 4, 4: 16}\n"
     ]
    }
   ],
   "source": [
    "nums = [0, 1, 2, 3, 4]\n",
    "even_num_to_square = {x: x ** 2 for x in nums if x % 2 == 0}\n",
    "print(even_num_to_square)"
   ]
  },
  {
   "cell_type": "markdown",
   "metadata": {},
   "source": [
    "### Sets\n",
    "\n",
    "Sets are useful in representing unordered data. Since sets are unordered, you cannot make assumptions about the order in which you visit the elements of the set. It may not be in the order you put elements in."
   ]
  },
  {
   "cell_type": "code",
   "execution_count": 18,
   "metadata": {},
   "outputs": [
    {
     "name": "stdout",
     "output_type": "stream",
     "text": [
      "#1: red\n",
      "#2: blue\n",
      "#3: green\n"
     ]
    }
   ],
   "source": [
    "animals = {\"red\", \"green\", \"red\", \"blue\"}\n",
    "for index, color in enumerate(animals):\n",
    "    print(\"#%d: %s\" % (index + 1, color))"
   ]
  },
  {
   "cell_type": "markdown",
   "metadata": {},
   "source": [
    "Similar to list, comprehensions allow you to easily construct sets."
   ]
  },
  {
   "cell_type": "code",
   "execution_count": 19,
   "metadata": {},
   "outputs": [
    {
     "name": "stdout",
     "output_type": "stream",
     "text": [
      "[0, 1, 2, 3, 4]\n"
     ]
    }
   ],
   "source": [
    "from math import sqrt\n",
    "num = {int(sqrt(x)) for x in range(30)}\n",
    "print(nums)"
   ]
  },
  {
   "cell_type": "markdown",
   "metadata": {},
   "source": [
    "### Tuples\n",
    "\n",
    "A tuples is an (immutable) ordered list of values. A tuple is in many ways similar to a list. One of the most important differences is that tuples can be used as key in dictionaries and as elements of sets, while lists cannot."
   ]
  },
  {
   "cell_type": "code",
   "execution_count": 20,
   "metadata": {},
   "outputs": [
    {
     "name": "stdout",
     "output_type": "stream",
     "text": [
      "<class 'tuple'>\n",
      "8\n",
      "1\n"
     ]
    }
   ],
   "source": [
    "# Create a dictionary (2D array) with tuple keys\n",
    "d = {(x, y) : x * y for x in range(10) for y in range(5)}\n",
    "t = (2, 4)          # Create a tuple\n",
    "print(type(t))      # Prints \"<class 'tuple'>\"\n",
    "print(d[t])         # Prints \"5\"\n",
    "print(d[(1, 1)])    # Prints \"1\""
   ]
  },
  {
   "cell_type": "markdown",
   "metadata": {},
   "source": [
    "---\n",
    "\n",
    "## Functions\n",
    "\n",
    "Python functions start with the `def` keyword. No need to define the output parameters like C++. Write a function to output if the input number is a whole square of another number."
   ]
  },
  {
   "cell_type": "code",
   "execution_count": 21,
   "metadata": {},
   "outputs": [],
   "source": [
    "def is_whole_square(x):\n",
    "    output = int(round(x ** (1. / 2))) ** 2 == x\n",
    "    return output"
   ]
  },
  {
   "cell_type": "markdown",
   "metadata": {},
   "source": [
    "Print whole square number between 0 and 100."
   ]
  },
  {
   "cell_type": "code",
   "execution_count": 22,
   "metadata": {},
   "outputs": [
    {
     "name": "stdout",
     "output_type": "stream",
     "text": [
      "[0, 1, 4, 9, 16, 25, 36, 49, 64, 81]\n"
     ]
    }
   ],
   "source": [
    "whole_squares = [x for x in range(100) if is_whole_square(x)]\n",
    "print(whole_squares)"
   ]
  },
  {
   "cell_type": "markdown",
   "metadata": {},
   "source": [
    "We can also define functions that has default parameters."
   ]
  },
  {
   "cell_type": "code",
   "execution_count": 23,
   "metadata": {},
   "outputs": [],
   "source": [
    "def is_whole_pwr(x, pwr=2):\n",
    "    output = int(round(x ** (1. / pwr))) ** pwr == x\n",
    "    return output"
   ]
  },
  {
   "cell_type": "code",
   "execution_count": 24,
   "metadata": {},
   "outputs": [
    {
     "name": "stdout",
     "output_type": "stream",
     "text": [
      "[0, 1, 4, 9, 16, 25, 36, 49, 64, 81]\n"
     ]
    }
   ],
   "source": [
    "whole_pwr2 = [x for x in range(100) if is_whole_pwr(x)]\n",
    "print(whole_pwr2)"
   ]
  },
  {
   "cell_type": "code",
   "execution_count": 25,
   "metadata": {},
   "outputs": [
    {
     "name": "stdout",
     "output_type": "stream",
     "text": [
      "[0, 1, 8, 27, 64]\n"
     ]
    }
   ],
   "source": [
    "whole_pwr2 = [x for x in range(100) if is_whole_pwr(x, pwr=3)]\n",
    "print(whole_pwr2)"
   ]
  },
  {
   "cell_type": "markdown",
   "metadata": {},
   "source": [
    "---\n",
    "\n",
    "## Numpy\n",
    "\n",
    "Numpy is the core library for scientific computing in Python. It provides a high-performance multi-dimentional array object, and tools for working with these arrays.\n",
    "\n",
    "A numpy array is a grid of values, all of the same type, and is indexed by a tuple of non-negative integers. Let's start with one dimensional array. A numpy 1D-array can be initiated from a python list and can access the elements using square brackets."
   ]
  },
  {
   "cell_type": "markdown",
   "metadata": {},
   "source": [
    "### Defining 1D-array"
   ]
  },
  {
   "cell_type": "code",
   "execution_count": 26,
   "metadata": {},
   "outputs": [
    {
     "name": "stdout",
     "output_type": "stream",
     "text": [
      "[1 2 3 4 5 6 7] (7,) int64\n",
      "[1. 2. 3. 4. 5. 6. 7.] (7,) float64\n",
      "2\n",
      "[4 5]\n"
     ]
    }
   ],
   "source": [
    "import numpy as np\n",
    "\n",
    "x = np.array([1, 2, 3, 4, 5, 6, 7])\n",
    "print(x, x.shape, x.dtype)\n",
    "\n",
    "# Can also change the data type\n",
    "y = x.astype(float)\n",
    "print(y, y.shape, y.dtype)\n",
    "\n",
    "# Access elements with slicing\n",
    "print(x[1])\n",
    "print(x[3:5])"
   ]
  },
  {
   "cell_type": "markdown",
   "metadata": {},
   "source": [
    "We can also intialize multi-dimensional arrays. Multi-dimensional arrays can have one index per axis."
   ]
  },
  {
   "cell_type": "code",
   "execution_count": 27,
   "metadata": {},
   "outputs": [
    {
     "name": "stdout",
     "output_type": "stream",
     "text": [
      "(3, 4)\n",
      "1 2 5\n",
      "[[1]\n",
      " [5]]\n",
      "[[1 2 3 4]\n",
      " [5 6 7 8]]\n"
     ]
    }
   ],
   "source": [
    "b = np.array([[1, 2, 3, 4], [5, 6, 7, 8], [9, 10, 11, 12]])  # 2D-array\n",
    "print(b.shape)\n",
    "print(b[0, 0], b[0, 1], b[1, 0])\n",
    "\n",
    "# Access elements with slicing\n",
    "print(b[:-1, :1])\n",
    "\n",
    "# We can use \":\" to denote whole column or row\n",
    "print(b[:-1, :])"
   ]
  },
  {
   "cell_type": "markdown",
   "metadata": {},
   "source": [
    "Some more important attributes of an array object are:\n",
    "- ndarray.ndim: the number of axes (dimensions) of the array\n",
    "- ndarray.shape: the dimensions of the array\n",
    "- ndarray.size: the total number of elements of the array.\n",
    "- ndarray.dtype: an object describing the type of the elements in the array.\n",
    "- ndarray.itemsize: the size in bytes of each element of the array."
   ]
  },
  {
   "cell_type": "markdown",
   "metadata": {},
   "source": [
    "Numpy also provide methods to create special type of arrays."
   ]
  },
  {
   "cell_type": "code",
   "execution_count": 28,
   "metadata": {},
   "outputs": [
    {
     "name": "stdout",
     "output_type": "stream",
     "text": [
      "a = [[0. 0.]\n",
      " [0. 0.]] \n",
      "\n",
      "b = [[1. 1.]] \n",
      "\n",
      "c = [[1. 0.]\n",
      " [0. 1.]] \n",
      "\n"
     ]
    },
    {
     "name": "stdout",
     "output_type": "stream",
     "text": [
      "d = [[0.99179267 0.55512133]\n",
      " [0.61463751 0.13518461]] \n",
      "\n"
     ]
    }
   ],
   "source": [
    "a = np.zeros((2, 2))    # Create an array of all zeros\n",
    "print(\"a =\", a, \"\\n\")\n",
    "\n",
    "b = np.ones((1, 2))     # Create an array of all ones\n",
    "print(\"b =\", b, \"\\n\")\n",
    "\n",
    "c = np.eye(2)           # Create a 2x2 identity matrix\n",
    "print(\"c =\", c, \"\\n\")\n",
    "\n",
    "d = np.random.random((2, 2))    # Create an array filled with random values\n",
    "print(\"d =\", d, \"\\n\")"
   ]
  },
  {
   "cell_type": "markdown",
   "metadata": {},
   "source": [
    "### Basic Array Operations\n",
    "\n",
    "Arithmetic operators on arrays apply element-wise. A new array is created and filled with the result."
   ]
  },
  {
   "cell_type": "code",
   "execution_count": 29,
   "metadata": {},
   "outputs": [
    {
     "name": "stdout",
     "output_type": "stream",
     "text": [
      "[0 1 2 3]\n",
      "[20 29 38 47]\n",
      "[0 1 4 9]\n",
      "[ 9.12945251 -9.88031624  7.4511316  -2.62374854]\n",
      "[ True  True False False]\n"
     ]
    }
   ],
   "source": [
    "a = np.array([20, 30, 40, 50])\n",
    "b = np.arange(4)\n",
    "print(b)\n",
    "\n",
    "c = a - b\n",
    "print(c)\n",
    "\n",
    "d = b**2\n",
    "print(d)\n",
    "\n",
    "e = 10 * np.sin(a)\n",
    "print(e)\n",
    "\n",
    "f = a < 35\n",
    "print(f)"
   ]
  },
  {
   "cell_type": "markdown",
   "metadata": {},
   "source": [
    "We can also do matrix operations on multi-dimensional arrays."
   ]
  },
  {
   "cell_type": "code",
   "execution_count": 30,
   "metadata": {},
   "outputs": [
    {
     "name": "stdout",
     "output_type": "stream",
     "text": [
      "[5 3]\n"
     ]
    }
   ],
   "source": [
    "a = np.array([[1, 1], [0, 1]])\n",
    "b = np.array([2, 3])\n",
    "\n",
    "c = a.dot(b)\n",
    "print(c)"
   ]
  },
  {
   "cell_type": "markdown",
   "metadata": {},
   "source": [
    "### Universal Functions\n",
    "\n",
    "Numpy provides familiar mathematical functions such as sin, cos, and exp. Within Numpy, these functions operate element-twise on an array, producing an array as output."
   ]
  },
  {
   "cell_type": "code",
   "execution_count": 31,
   "metadata": {},
   "outputs": [
    {
     "name": "stdout",
     "output_type": "stream",
     "text": [
      "[[0.10413458 0.53228122]\n",
      " [0.1870921  0.69693233]\n",
      " [0.32311891 0.49903766]]\n",
      "\n",
      "[[1.1097498  1.70281238]\n",
      " [1.20573833 2.00758465]\n",
      " [1.38142961 1.64713541]]\n",
      "\n",
      "[[0.3226989  0.72957606]\n",
      " [0.43254144 0.83482473]\n",
      " [0.56843549 0.70642598]]\n",
      "\n",
      "[[0.80751378 0.83600695]\n",
      " [1.04830051 0.82226355]\n",
      " [0.53734032 1.23698778]]\n"
     ]
    }
   ],
   "source": [
    "b = np.random.rand(3, 2)\n",
    "print(b)\n",
    "print(\"\")\n",
    "\n",
    "print(np.exp(b))\n",
    "print(\"\")\n",
    "\n",
    "print(np.sqrt(b))\n",
    "print(\"\")\n",
    "\n",
    "c = np.random.rand(3, 2)\n",
    "print(np.add(b, c))"
   ]
  },
  {
   "cell_type": "markdown",
   "metadata": {},
   "source": [
    "Numpy provides many useful functions for performing computations on arrays. One of the most useful is `sum()`."
   ]
  },
  {
   "cell_type": "code",
   "execution_count": null,
   "metadata": {},
   "outputs": [
    {
     "name": "stdout",
     "output_type": "stream",
     "text": [
      "10\n",
      "[4 6]\n",
      "[3 7]\n",
      "2.5\n"
     ]
    }
   ],
   "source": [
    "x = np.array([[1, 2], [3, 4]])\n",
    "\n",
    "print(np.sum(x))            # Compute sum of all elements\n",
    "print(np.sum(x, axis=0))    # Compute sum of each column\n",
    "print(np.sum(x, axis=1))    # Compute sum of each row\n",
    "print(np.mean(x))           # Compute mean of all elements"
   ]
  },
  {
   "cell_type": "markdown",
   "metadata": {},
   "source": [
    "### Iterating\n",
    "\n",
    "Iterating over multi-dimensional arrays is done with respect to the first axis:"
   ]
  },
  {
   "cell_type": "code",
   "execution_count": 33,
   "metadata": {},
   "outputs": [
    {
     "name": "stdout",
     "output_type": "stream",
     "text": [
      "[74 77 41 36 81]\n",
      "[85 74 52 33 28]\n",
      "[45 39 74 16 50]\n"
     ]
    }
   ],
   "source": [
    "x = np.random.randint(0, 100, size=(3, 5))\n",
    "for row in x:\n",
    "    print(row)"
   ]
  },
  {
   "cell_type": "markdown",
   "metadata": {},
   "source": [
    "If you want to go over each element of a multi-dimensional array, you can use:"
   ]
  },
  {
   "cell_type": "code",
   "execution_count": 34,
   "metadata": {},
   "outputs": [
    {
     "name": "stdout",
     "output_type": "stream",
     "text": [
      "74\n",
      "77\n",
      "41\n",
      "36\n",
      "81\n",
      "85\n",
      "74\n",
      "52\n",
      "33\n",
      "28\n",
      "45\n",
      "39\n",
      "74\n",
      "16\n",
      "50\n"
     ]
    }
   ],
   "source": [
    "for element in x.flat:\n",
    "    print(element)"
   ]
  },
  {
   "cell_type": "markdown",
   "metadata": {},
   "source": [
    "### Shape Manipulation\n",
    "\n",
    "An array has a shape given by the number of elements along each axis. The shape of an array can be changed with various commands. Note that the following three commands all return a modified array, but do not change the original array: "
   ]
  },
  {
   "cell_type": "code",
   "execution_count": null,
   "metadata": {},
   "outputs": [
    {
     "name": "stdout",
     "output_type": "stream",
     "text": [
      "x = [[22 44 62  7]\n",
      " [99 56 95 99]\n",
      " [67 73 25 57]]\n",
      "Flattened x = [22 44 62  7 99 56 95 99 67 73 25 57]\n",
      "Reshaped x = [[22 44]\n",
      " [62  7]\n",
      " [99 56]\n",
      " [95 99]\n",
      " [67 73]\n",
      " [25 57]]\n",
      "Transpose of x = [[22 99 67]\n",
      " [44 56 73]\n",
      " [62 95 25]\n",
      " [ 7 99 57]]\n"
     ]
    }
   ],
   "source": [
    "x = np.random.randint(0, 100, size=(3, 4))\n",
    "print(\"x =\", x)\n",
    "print(\"Flattened x =\", x.ravel())       # Return a flattened array\n",
    "print(\"Reshaped x =\", x.reshape(6, 2))\n",
    "print(\"Transpose of x =\", x.T)"
   ]
  },
  {
   "cell_type": "markdown",
   "metadata": {},
   "source": [
    "### Copies\n",
    "\n",
    "Simple assignments make no copy of objects or their data."
   ]
  },
  {
   "cell_type": "code",
   "execution_count": null,
   "metadata": {},
   "outputs": [
    {
     "name": "stdout",
     "output_type": "stream",
     "text": [
      "[[57 58 25 42]\n",
      " [66 81 65 65]\n",
      " [58 79 25 71]] \n",
      "\n",
      "True \n",
      "\n",
      "[[ 57  58  25  42]\n",
      " [ 66  81  65  65]\n",
      " [ 58  79 225  71]] \n",
      "\n",
      "[[ 57  58  25  42]\n",
      " [ 66  81  65  65]\n",
      " [ 58  79 225  71]] \n",
      "\n"
     ]
    }
   ],
   "source": [
    "a = np.random.randint(0, 100, size=(3, 4))\n",
    "print(a, '\\n')\n",
    "\n",
    "b = a   # a and b are two names for the same ndarray object\n",
    "print(b is a, '\\n')\n",
    "\n",
    "# If a is changed it will change b as well\n",
    "a[2, 2] = 225\n",
    "\n",
    "print(a, '\\n')\n",
    "print(b, '\\n')"
   ]
  },
  {
   "cell_type": "markdown",
   "metadata": {},
   "source": [
    "### Shallow copy\n",
    "\n",
    "Different array objects can share the same data. The `view` method creates a new array object that looks at the same data."
   ]
  },
  {
   "cell_type": "code",
   "execution_count": 39,
   "metadata": {},
   "outputs": [
    {
     "name": "stdout",
     "output_type": "stream",
     "text": [
      "[[ 8 73 50 31]\n",
      " [ 0 23 50 81]\n",
      " [ 9 73 62 60]] \n",
      "\n",
      "False \n",
      "\n",
      "[[  8  73  50  31]\n",
      " [  0  23  50  81]\n",
      " [  9  73 225  60]] \n",
      "\n",
      "[[  8  73  50  31]\n",
      " [  0  23  50  81]\n",
      " [  9  73 225  60]] \n",
      "\n"
     ]
    }
   ],
   "source": [
    "a = np.random.randint(0, 100, size=(3, 4))\n",
    "print(a, \"\\n\")\n",
    "\n",
    "b = a.view()            # a and b share the same data\n",
    "print(b is a, \"\\n\")     # But they are not the same object\n",
    "\n",
    "# Still if a is changed it will changed b as well\n",
    "a[2, 2] = 225\n",
    "\n",
    "print(a, \"\\n\")\n",
    "print(b, \"\\n\")"
   ]
  },
  {
   "cell_type": "markdown",
   "metadata": {},
   "source": [
    "---\n",
    "\n",
    "## Plotting\n",
    "\n",
    "For plotting graphs and images in Python we can use `matplotlib` library. Below we have a simple example that uses `matplotlib.pyplot`."
   ]
  },
  {
   "cell_type": "code",
   "execution_count": 1,
   "metadata": {},
   "outputs": [
    {
     "data": {
      "image/png": "[encoded data removed]",
      "text/plain": [
       "<Figure size 640x480 with 1 Axes>"
      ]
     },
     "metadata": {},
     "output_type": "display_data"
    }
   ],
   "source": [
    "import numpy as np\n",
    "import matplotlib.pyplot as plt\n",
    "\n",
    "x = np.arange(-5, 5, .1)\n",
    "y2 = x**2\n",
    "y3 = x**3\n",
    "\n",
    "plt.plot(x, y2)\n",
    "plt.plot(x, y3)\n",
    "\n",
    "plt.xlabel(\"x value\")\n",
    "plt.ylabel(\"t value\")\n",
    "plt.title(\"Plot Functions\")\n",
    "plt.legend([\"$y = x^2$\", \"$y = x^3$\"])\n",
    "plt.grid(True)\n",
    "plt.show()"
   ]
  }
 ],
 "metadata": {
  "kernelspec": {
   "display_name": "rmit_machine_learning",
   "language": "python",
   "name": "python3"
  },
  "language_info": {
   "codemirror_mode": {
    "name": "ipython",
    "version": 3
   },
   "file_extension": ".py",
   "mimetype": "text/x-python",
   "name": "python",
   "nbconvert_exporter": "python",
   "pygments_lexer": "ipython3",
   "version": "3.13.2"
  }
 },
 "nbformat": 4,
 "nbformat_minor": 2
}
